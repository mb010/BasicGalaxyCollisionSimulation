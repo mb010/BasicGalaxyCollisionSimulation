{
 "cells": [
  {
   "cell_type": "code",
   "execution_count": 16,
   "metadata": {},
   "outputs": [],
   "source": [
    "import numpy as np\n",
    "import ipywidgets as widgets\n",
    "from ipywidgets import interact, interactive, fixed, interact_manual\n",
    "import matplotlib.pyplot as plt"
   ]
  },
  {
   "cell_type": "code",
   "execution_count": 21,
   "metadata": {},
   "outputs": [],
   "source": [
    "def f(x):\n",
    "    img = np.random.randn(20,20)\n",
    "    plt.imshow(img+x)\n",
    "    plt.colorbar()\n",
    "    return plt.show()"
   ]
  },
  {
   "cell_type": "code",
   "execution_count": 31,
   "metadata": {},
   "outputs": [
    {
     "data": {
      "application/vnd.jupyter.widget-view+json": {
       "model_id": "2dcf7779eee642ac873e400108ba0dcc",
       "version_major": 2,
       "version_minor": 0
      },
      "text/plain": [
       "interactive(children=(Dropdown(description='x', options={'test1': 1, 't2': 10}, value=1), Output()), _dom_clas…"
      ]
     },
     "metadata": {},
     "output_type": "display_data"
    }
   ],
   "source": [
    "interactive(f, x={'test1':1,'t2':10})"
   ]
  },
  {
   "cell_type": "code",
   "execution_count": 32,
   "metadata": {},
   "outputs": [
    {
     "data": {
      "application/vnd.jupyter.widget-view+json": {
       "model_id": "707c8786acd946d3ac02374e5cdc11da",
       "version_major": 2,
       "version_minor": 0
      },
      "text/plain": [
       "interactive(children=(IntSlider(value=1, description='x', max=3, min=-1), Output()), _dom_classes=('widget-int…"
      ]
     },
     "metadata": {},
     "output_type": "display_data"
    }
   ],
   "source": [
    "interactive(f, x=1)"
   ]
  },
  {
   "cell_type": "code",
   "execution_count": 33,
   "metadata": {},
   "outputs": [
    {
     "data": {
      "application/vnd.jupyter.widget-view+json": {
       "model_id": "a5fc7814457f4d309529ec9d8e1a1297",
       "version_major": 2,
       "version_minor": 0
      },
      "text/plain": [
       "interactive(children=(Dropdown(description='x', options=(0, 1, 2, 3), value=0), Output()), _dom_classes=('widg…"
      ]
     },
     "metadata": {},
     "output_type": "display_data"
    }
   ],
   "source": [
    "interactive(f, x=[0,1,2,3])"
   ]
  },
  {
   "cell_type": "code",
   "execution_count": 1,
   "metadata": {},
   "outputs": [
    {
     "ename": "SyntaxError",
     "evalue": "invalid syntax (<ipython-input-1-dbf1f8d5202d>, line 1)",
     "output_type": "error",
     "traceback": [
      "\u001b[0;36m  File \u001b[0;32m\"<ipython-input-1-dbf1f8d5202d>\"\u001b[0;36m, line \u001b[0;32m1\u001b[0m\n\u001b[0;31m    error: lstat(\"simulation/Calculated Values/gal3.0 N[20 10],vFac[[0.258 0.194]_ [0.65  0.5  ]_ [0.75  0.59 ]_ [0.51  0.4  ]_ [0.35  0.265]_ [0.67  0.525]_ [0.85  0.655]],sCrit500000001.0,eta1e-06,deltat1.0,NoG1DistO.txt\"): Filename too long\u001b[0m\n\u001b[0m                                                                                                                                                                                                                                ^\u001b[0m\n\u001b[0;31mSyntaxError\u001b[0m\u001b[0;31m:\u001b[0m invalid syntax\n"
     ]
    }
   ],
   "source": [
    "error: lstat(\"simulation/Calculated Values/gal3.0 N[20 10],vFac[[0.258 0.194]_ [0.65  0.5  ]_ [0.75  0.59 ]_ [0.51  0.4  ]_ [0.35  0.265]_ [0.67  0.525]_ [0.85  0.655]],sCrit500000001.0,eta1e-06,deltat1.0,NoG1DistO.txt\"): Filename too long\n",
    "fatal: Unable to process path simulation/Calculated Values/gal3.0 N[20 10],vFac[[0.258 0.194]_ [0.65  0.5  ]_ [0.75  0.59 ]_ [0.51  0.4  ]_ [0.35  0.265]_ [0.67  0.525]_ [0.85  0.655]],sCrit500000001.0,eta1e-06,deltat1.0,NoG1DistO.txt"
   ]
  },
  {
   "cell_type": "code",
   "execution_count": 2,
   "metadata": {},
   "outputs": [
    {
     "ename": "SyntaxError",
     "evalue": "invalid syntax (<ipython-input-2-eac040410daa>, line 1)",
     "output_type": "error",
     "traceback": [
      "\u001b[0;36m  File \u001b[0;32m\"<ipython-input-2-eac040410daa>\"\u001b[0;36m, line \u001b[0;32m1\u001b[0m\n\u001b[0;31m    fatal: Unable to process path simulation/Calculated Values/gal3.0 N[20 10],vFac[[0.258 0.194]_ [0.65  0.5  ]_ [0.75  0.59 ]_ [0.51  0.4  ]_ [0.35  0.265]_ [0.67  0.525]_ [0.85  0.655]],sCrit500000001.0,eta1e-06,deltat1.0,NoG1DistO.txt\u001b[0m\n\u001b[0m                  ^\u001b[0m\n\u001b[0;31mSyntaxError\u001b[0m\u001b[0;31m:\u001b[0m invalid syntax\n"
     ]
    }
   ],
   "source": [
    "gal3.0 N[20 10],vFac[[0.258 0.194]_ [0.65  0.5  ]_ [0.75  0.59 ]_ [0.51  0.4  ]_ [0.35  0.265]_ [0.67  0.525]_ [0.85  0.655]],sCrit500000001.0,eta1e-06,deltat1.0,NoG1DistO.txt\"): Filename too long\n",
    "gal3.0 N[20 10],vFac[[0.258 0.194]_ [0.65  0.5  ]_ [0.75  0.59 ]_ [0.51  0.4  ]_ [0.35  0.265]_ [0.67  0.525]_ [0.85  0.655]],sCrit500000001.0,eta1e-06,deltat1.0,NoG1DistO.txt\n",
    "gal3.0 N[20 10],vFac[[0.258 0.194]_ [0.65  0.5  ]_ [0.75  0.59 ]_ [0.51  0.4  ]_ [0.35  0.265]_ [0.67  0.525]_ [0.85  0.655]],sCrit500000001.0,eta1e-06,deltat1.0,NoG1DistO"
   ]
  },
  {
   "cell_type": "code",
   "execution_count": null,
   "metadata": {},
   "outputs": [],
   "source": []
  }
 ],
 "metadata": {
  "kernelspec": {
   "display_name": "Python 3",
   "language": "python",
   "name": "python3"
  },
  "language_info": {
   "codemirror_mode": {
    "name": "ipython",
    "version": 3
   },
   "file_extension": ".py",
   "mimetype": "text/x-python",
   "name": "python",
   "nbconvert_exporter": "python",
   "pygments_lexer": "ipython3",
   "version": "3.8.2"
  }
 },
 "nbformat": 4,
 "nbformat_minor": 4
}
